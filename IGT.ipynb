{
 "cells": [
  {
   "cell_type": "code",
   "execution_count": 346,
   "metadata": {},
   "outputs": [
    {
     "name": "stdout",
     "output_type": "stream",
     "text": [
      "[0.2181 0.2991 0.2338 0.249 ]\n",
      "[372.68887416 399.67686297 343.66787234 358.64340292] [-110.54767164 -213.85183837  -61.28091453  -62.8905004 ]\n"
     ]
    },
    {
     "data": {
      "image/png": "[encoded data removed]",
      "text/plain": [
       "<Figure size 432x288 with 1 Axes>"
      ]
     },
     "metadata": {},
     "output_type": "display_data"
    }
   ],
   "source": [
    "import numpy as np\n",
    "from matplotlib import pyplot as plt\n",
    "# parameters\n",
    "S = 100\n",
    "T = 100\n",
    "alpha  = 0.4\n",
    "eps = 0.4\n",
    "gamma = 0.8\n",
    "k_plus = 0.9\n",
    "k_minus = 0.1\n",
    "\n",
    "def choose_action (Q_plus, Q_minus, eps):\n",
    "    summ = (np.array(Q_plus) + np.array(Q_minus))/2\n",
    "    diff = (np.array(Q_plus) - np.array(Q_minus))\n",
    "    U = summ + np.random.uniform(-0.5,0.5)*diff\n",
    "    # print(U)\n",
    "    if np.random.uniform(0,1) < eps:\n",
    "        action = np.random.randint(0,4)\n",
    "    else:\n",
    "        action = np.argmax(U[:])\n",
    "    return action\n",
    "\n",
    "# updates the Q-values\n",
    "def update (curr_action, curr_state, Q, next_action, next_state, r,k,Q_type):\n",
    "    predict = Q[curr_state, curr_action]\n",
    "    target = r + gamma*Q[next_state, next_action]\n",
    "    Q[curr_state, curr_action] = Q[curr_state, curr_action] + alpha*piecewise(target - predict, k, Q_type) \n",
    "    \n",
    "        \n",
    "# for simplicity, Q_type is a string character indicating which Q we are updating\n",
    "# Q_type = 'POS' or 'NEG'\n",
    "def piecewise(TD_error, k, Q_type):\n",
    "    if Q_type == 'POS':\n",
    "        if TD_error >= 0:\n",
    "            return (1+k)*TD_error\n",
    "        else:\n",
    "            return (1-k)*TD_error\n",
    "    elif TD_error >= 0:\n",
    "        return (1-k)*TD_error\n",
    "    else:\n",
    "        return (1+k)*TD_error\n",
    "\n",
    "# function to encode the IGT structure - transition and reward\n",
    "# return reward, next_state\n",
    "def step(curr_state, curr_action):\n",
    "    next_state = curr_state\n",
    "    # actions {0,1,2,3} correspond to decks {A,B,C,D}\n",
    "    if curr_action == 0:\n",
    "        reward = np.random.choice([100,-150])\n",
    "    elif curr_action == 1:\n",
    "        if np.random.uniform(0,1) < 0.1:\n",
    "            reward = -1150\n",
    "        else:\n",
    "            reward = 100\n",
    "    elif curr_action == 2:\n",
    "        reward = np.random.choice([0,50])\n",
    "    else:\n",
    "        if np.random.uniform(0,1) < 0.1:\n",
    "            reward = -200\n",
    "        else:\n",
    "            reward = 50\n",
    "    return reward, next_state\n",
    "\n",
    "#---------------Start Training Here-----------------------\n",
    "Total_plus = np.zeros((S,4))\n",
    "Total_minus = np.zeros((S,4))\n",
    "Deck_choice = np.zeros((4,))\n",
    "for s in range(S):\n",
    "    curr_state = 0\n",
    "    Q_plus = np.zeros((1,4))\n",
    "    Q_minus = np.zeros((1,4))\n",
    "    \n",
    "    for t in range(T):\n",
    "        \n",
    "        # select first action \n",
    "        curr_action = choose_action(Q_plus, Q_minus, eps)\n",
    "        reward, next_state = step(curr_state, curr_action)\n",
    "        # record the deck that was chosen\n",
    "        Deck_choice[curr_action]+=1\n",
    "        # select the \"look-up\" action as per SARSA\n",
    "        next_action = choose_action(Q_plus, Q_minus, eps)\n",
    "        \n",
    "        # update the Q-values\n",
    "        update(curr_action, curr_state,Q_plus, next_action, next_state, reward , k_plus, \"POS\")\n",
    "        update(curr_action, curr_state, Q_minus, next_action, next_state, reward, k_minus, \"NEG\")\n",
    "        \n",
    "        curr_action = next_action\n",
    "        curr_state = next_state\n",
    "    \n",
    "    Total_plus[s,:] = Q_plus\n",
    "    Total_minus[s,:] = Q_minus\n",
    "Deck_choice /=(S*T)\n",
    "print(Deck_choice)\n",
    "print(np.mean(Total_plus, axis = 0), np.mean(Total_minus, axis = 0))\n",
    "\n",
    "plt.style.use(['dark_background'])\n",
    "fig = plt.figure()\n",
    "ax = fig.add_axes([0,0,1,1])\n",
    "decks = np.array(['A', 'B', 'C', 'D'])\n",
    "\n",
    "ax.bar(decks, Deck_choice, color = ['r', 'g', 'b', 'c'])\n",
    "plt.show()"
   ]
  },
  {
   "cell_type": "code",
   "execution_count": 312,
   "metadata": {},
   "outputs": [
    {
     "name": "stdout",
     "output_type": "stream",
     "text": [
      "-3.3000000000000003\n",
      "2\n",
      "0\n",
      "100 3\n"
     ]
    }
   ],
   "source": []
  }
 ],
 "metadata": {
  "kernelspec": {
   "display_name": "Python 3",
   "language": "python",
   "name": "python3"
  },
  "language_info": {
   "codemirror_mode": {
    "name": "ipython",
    "version": 3
   },
   "file_extension": ".py",
   "mimetype": "text/x-python",
   "name": "python",
   "nbconvert_exporter": "python",
   "pygments_lexer": "ipython3",
   "version": "3.8.3"
  }
 },
 "nbformat": 4,
 "nbformat_minor": 4
}
